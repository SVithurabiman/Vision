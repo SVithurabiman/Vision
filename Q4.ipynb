{
  "nbformat": 4,
  "nbformat_minor": 0,
  "metadata": {
    "colab": {
      "name": "Q4",
      "provenance": [],
      "collapsed_sections": [],
      "authorship_tag": "ABX9TyNPaitz1sKRsMTxON+0M8VE",
      "include_colab_link": true
    },
    "kernelspec": {
      "name": "python3",
      "display_name": "Python 3"
    },
    "language_info": {
      "name": "python"
    },
    "accelerator": "GPU"
  },
  "cells": [
    {
      "cell_type": "markdown",
      "metadata": {
        "id": "view-in-github",
        "colab_type": "text"
      },
      "source": [
        "<a href=\"https://colab.research.google.com/github/SVithurabiman/Vision/blob/main/Q4.ipynb\" target=\"_parent\"><img src=\"https://colab.research.google.com/assets/colab-badge.svg\" alt=\"Open In Colab\"/></a>"
      ]
    },
    {
      "cell_type": "code",
      "metadata": {
        "colab": {
          "base_uri": "https://localhost:8080/"
        },
        "id": "qoU0ThtWtehr",
        "outputId": "b0e94ea7-cf53-4bb4-e47a-c4741c3d121e"
      },
      "source": [
        "%matplotlib inline\n",
        "import tensorflow as tf\n",
        "from tensorflow import keras\n",
        "import numpy as np\n",
        "import matplotlib.pyplot as plt\n",
        "\n",
        "\n",
        "print(tf.__version__)\n",
        "\n",
        "#mnist = keras.datasets.mnist\n",
        "(train_images, train_labels), (test_images, test_labels) = keras.datasets.cifar10.load_data()\n",
        "\n",
        "\n",
        "print('train_images.shape: ', train_images.shape)\n",
        "print('train_labels.shape: ', train_labels.shape)\n",
        "print('test_images.shape:', test_images.shape)\n",
        "print('test_labels.shape:', test_labels.shape)\n",
        "class_names = ['0', '1', '2', '3', '4', '5', '6', '7', '8', '9']\n",
        "train_labels = keras.utils.to_categorical(train_labels)\n",
        "test_labels = keras.utils.to_categorical(test_labels)\n",
        "train_images = train_images / 255.0\n",
        "test_images = test_images / 255.0\n",
        "\n",
        "model = keras.Sequential()\n",
        "model.add(keras.layers.Conv2D(32, (3, 3), activation='relu', kernel_initializer='he_uniform', padding='same', input_shape=(32, 32, 3)))\n",
        "model.add(keras.layers.MaxPooling2D((2, 2)))\n",
        "model.add(keras.layers.Conv2D(64, (3, 3), activation='relu', kernel_initializer='he_uniform', padding='same'))\n",
        "model.add(keras.layers.MaxPooling2D((2, 2)))\n",
        "model.add(keras.layers.Conv2D(64, (3, 3), activation='relu', kernel_initializer='he_uniform', padding='same'))\n",
        "model.add(keras.layers.MaxPooling2D((2, 2)))\n",
        "model.add(keras.layers.Flatten())\n",
        "model.add(keras.layers.Dense(64, activation='relu', kernel_initializer='he_uniform'))\n",
        "model.add(keras.layers.Dense(10, activation='softmax'))\n",
        "\n",
        "opt = keras.optimizers.SGD(lr=0.0008, momentum=0.6)\n",
        "model.compile(optimizer=opt, loss='categorical_crossentropy', metrics=['accuracy'] )\n",
        "\n",
        "# fit model\n",
        "print(model.summary())\n",
        "history = model.fit(train_images, train_labels, epochs=50, batch_size=50, verbose=2)\n",
        "\n",
        "\n",
        "test_loss, test_acc = model.evaluate(test_images,  test_labels, verbose=2)\n",
        "print('\\nTest accuracy:', test_acc)\n",
        "print('\\nTest loss:', test_loss)\n",
        "\n",
        "\n",
        "\n",
        "\n",
        "#till best 0.011"
      ],
      "execution_count": 3,
      "outputs": [
        {
          "output_type": "stream",
          "text": [
            "2.4.1\n",
            "train_images.shape:  (50000, 32, 32, 3)\n",
            "train_labels.shape:  (50000, 1)\n",
            "test_images.shape: (10000, 32, 32, 3)\n",
            "test_labels.shape: (10000, 1)\n",
            "Model: \"sequential_2\"\n",
            "_________________________________________________________________\n",
            "Layer (type)                 Output Shape              Param #   \n",
            "=================================================================\n",
            "conv2d_6 (Conv2D)            (None, 32, 32, 32)        896       \n",
            "_________________________________________________________________\n",
            "max_pooling2d_6 (MaxPooling2 (None, 16, 16, 32)        0         \n",
            "_________________________________________________________________\n",
            "conv2d_7 (Conv2D)            (None, 16, 16, 64)        18496     \n",
            "_________________________________________________________________\n",
            "max_pooling2d_7 (MaxPooling2 (None, 8, 8, 64)          0         \n",
            "_________________________________________________________________\n",
            "conv2d_8 (Conv2D)            (None, 8, 8, 64)          36928     \n",
            "_________________________________________________________________\n",
            "max_pooling2d_8 (MaxPooling2 (None, 4, 4, 64)          0         \n",
            "_________________________________________________________________\n",
            "flatten_2 (Flatten)          (None, 1024)              0         \n",
            "_________________________________________________________________\n",
            "dense_4 (Dense)              (None, 64)                65600     \n",
            "_________________________________________________________________\n",
            "dense_5 (Dense)              (None, 10)                650       \n",
            "=================================================================\n",
            "Total params: 122,570\n",
            "Trainable params: 122,570\n",
            "Non-trainable params: 0\n",
            "_________________________________________________________________\n",
            "None\n",
            "Epoch 1/50\n",
            "1000/1000 - 3s - loss: 2.1183 - accuracy: 0.2427\n",
            "Epoch 2/50\n",
            "1000/1000 - 3s - loss: 1.8570 - accuracy: 0.3445\n",
            "Epoch 3/50\n",
            "1000/1000 - 3s - loss: 1.7166 - accuracy: 0.3943\n",
            "Epoch 4/50\n",
            "1000/1000 - 3s - loss: 1.6268 - accuracy: 0.4260\n",
            "Epoch 5/50\n",
            "1000/1000 - 3s - loss: 1.5568 - accuracy: 0.4484\n",
            "Epoch 6/50\n",
            "1000/1000 - 3s - loss: 1.4986 - accuracy: 0.4674\n",
            "Epoch 7/50\n",
            "1000/1000 - 3s - loss: 1.4488 - accuracy: 0.4848\n",
            "Epoch 8/50\n",
            "1000/1000 - 3s - loss: 1.4042 - accuracy: 0.5030\n",
            "Epoch 9/50\n",
            "1000/1000 - 3s - loss: 1.3697 - accuracy: 0.5142\n",
            "Epoch 10/50\n",
            "1000/1000 - 3s - loss: 1.3382 - accuracy: 0.5260\n",
            "Epoch 11/50\n",
            "1000/1000 - 3s - loss: 1.3097 - accuracy: 0.5377\n",
            "Epoch 12/50\n",
            "1000/1000 - 3s - loss: 1.2832 - accuracy: 0.5473\n",
            "Epoch 13/50\n",
            "1000/1000 - 3s - loss: 1.2594 - accuracy: 0.5575\n",
            "Epoch 14/50\n",
            "1000/1000 - 3s - loss: 1.2379 - accuracy: 0.5639\n",
            "Epoch 15/50\n",
            "1000/1000 - 3s - loss: 1.2162 - accuracy: 0.5733\n",
            "Epoch 16/50\n",
            "1000/1000 - 3s - loss: 1.1961 - accuracy: 0.5795\n",
            "Epoch 17/50\n",
            "1000/1000 - 3s - loss: 1.1768 - accuracy: 0.5875\n",
            "Epoch 18/50\n",
            "1000/1000 - 3s - loss: 1.1596 - accuracy: 0.5934\n",
            "Epoch 19/50\n",
            "1000/1000 - 3s - loss: 1.1422 - accuracy: 0.5988\n",
            "Epoch 20/50\n",
            "1000/1000 - 2s - loss: 1.1254 - accuracy: 0.6063\n",
            "Epoch 21/50\n",
            "1000/1000 - 2s - loss: 1.1101 - accuracy: 0.6116\n",
            "Epoch 22/50\n",
            "1000/1000 - 2s - loss: 1.0953 - accuracy: 0.6177\n",
            "Epoch 23/50\n",
            "1000/1000 - 2s - loss: 1.0806 - accuracy: 0.6224\n",
            "Epoch 24/50\n",
            "1000/1000 - 3s - loss: 1.0665 - accuracy: 0.6292\n",
            "Epoch 25/50\n",
            "1000/1000 - 3s - loss: 1.0522 - accuracy: 0.6360\n",
            "Epoch 26/50\n",
            "1000/1000 - 3s - loss: 1.0421 - accuracy: 0.6387\n",
            "Epoch 27/50\n",
            "1000/1000 - 3s - loss: 1.0281 - accuracy: 0.6424\n",
            "Epoch 28/50\n",
            "1000/1000 - 3s - loss: 1.0156 - accuracy: 0.6469\n",
            "Epoch 29/50\n",
            "1000/1000 - 3s - loss: 1.0059 - accuracy: 0.6517\n",
            "Epoch 30/50\n",
            "1000/1000 - 3s - loss: 0.9948 - accuracy: 0.6565\n",
            "Epoch 31/50\n",
            "1000/1000 - 3s - loss: 0.9835 - accuracy: 0.6586\n",
            "Epoch 32/50\n",
            "1000/1000 - 3s - loss: 0.9727 - accuracy: 0.6631\n",
            "Epoch 33/50\n",
            "1000/1000 - 3s - loss: 0.9627 - accuracy: 0.6659\n",
            "Epoch 34/50\n",
            "1000/1000 - 3s - loss: 0.9520 - accuracy: 0.6690\n",
            "Epoch 35/50\n",
            "1000/1000 - 3s - loss: 0.9433 - accuracy: 0.6728\n",
            "Epoch 36/50\n",
            "1000/1000 - 3s - loss: 0.9332 - accuracy: 0.6779\n",
            "Epoch 37/50\n",
            "1000/1000 - 3s - loss: 0.9241 - accuracy: 0.6809\n",
            "Epoch 38/50\n",
            "1000/1000 - 3s - loss: 0.9171 - accuracy: 0.6835\n",
            "Epoch 39/50\n",
            "1000/1000 - 3s - loss: 0.9080 - accuracy: 0.6869\n",
            "Epoch 40/50\n",
            "1000/1000 - 3s - loss: 0.8983 - accuracy: 0.6896\n",
            "Epoch 41/50\n",
            "1000/1000 - 3s - loss: 0.8913 - accuracy: 0.6930\n",
            "Epoch 42/50\n",
            "1000/1000 - 3s - loss: 0.8824 - accuracy: 0.6968\n",
            "Epoch 43/50\n",
            "1000/1000 - 3s - loss: 0.8760 - accuracy: 0.6983\n",
            "Epoch 44/50\n",
            "1000/1000 - 3s - loss: 0.8679 - accuracy: 0.7003\n",
            "Epoch 45/50\n",
            "1000/1000 - 3s - loss: 0.8614 - accuracy: 0.7036\n",
            "Epoch 46/50\n",
            "1000/1000 - 3s - loss: 0.8530 - accuracy: 0.7054\n",
            "Epoch 47/50\n",
            "1000/1000 - 3s - loss: 0.8471 - accuracy: 0.7094\n",
            "Epoch 48/50\n",
            "1000/1000 - 3s - loss: 0.8394 - accuracy: 0.7112\n",
            "Epoch 49/50\n",
            "1000/1000 - 3s - loss: 0.8332 - accuracy: 0.7129\n",
            "Epoch 50/50\n",
            "1000/1000 - 3s - loss: 0.8279 - accuracy: 0.7151\n",
            "313/313 - 1s - loss: 0.9507 - accuracy: 0.6697\n",
            "\n",
            "Test accuracy: 0.669700026512146\n",
            "\n",
            "Test loss: 0.9506657123565674\n"
          ],
          "name": "stdout"
        }
      ]
    },
    {
      "cell_type": "code",
      "metadata": {
        "colab": {
          "base_uri": "https://localhost:8080/",
          "height": 297
        },
        "id": "DLoeA7SthvYc",
        "outputId": "acfe402e-3590-4557-a97c-555c4527f58f"
      },
      "source": [
        "plt.plot(history.history['accuracy'],label ='accuracy')\n",
        "plt.title('Train Accuracy')\n",
        "plt.show"
      ],
      "execution_count": 6,
      "outputs": [
        {
          "output_type": "execute_result",
          "data": {
            "text/plain": [
              "<function matplotlib.pyplot.show>"
            ]
          },
          "metadata": {
            "tags": []
          },
          "execution_count": 6
        },
        {
          "output_type": "display_data",
          "data": {
            "image/png": "[encoded data removed]",
            "text/plain": [
              "<Figure size 432x288 with 1 Axes>"
            ]
          },
          "metadata": {
            "tags": [],
            "needs_background": "light"
          }
        }
      ]
    }
  ]
}